{
 "cells": [
  {
   "cell_type": "markdown",
   "id": "7c397d27",
   "metadata": {},
   "source": [
    "# IMPORTS"
   ]
  },
  {
   "cell_type": "code",
   "execution_count": 1,
   "id": "4e190104",
   "metadata": {},
   "outputs": [],
   "source": [
    "import json\n",
    "import pickle\n",
    "import numpy as np"
   ]
  },
  {
   "cell_type": "markdown",
   "id": "e3007237",
   "metadata": {},
   "source": [
    "# Loading model and columns JSON"
   ]
  },
  {
   "cell_type": "code",
   "execution_count": 2,
   "id": "a0a20232",
   "metadata": {},
   "outputs": [],
   "source": [
    "locations =None\n",
    "data_columns=None\n",
    "model=None"
   ]
  },
  {
   "cell_type": "code",
   "execution_count": 3,
   "id": "ef4f0e3c",
   "metadata": {},
   "outputs": [],
   "source": [
    "with open('columns.json','r') as f:\n",
    "        data_columns=json.load(f)['data_columns']\n",
    "        locations=data_columns[3:]"
   ]
  },
  {
   "cell_type": "code",
   "execution_count": 5,
   "id": "0f027a89",
   "metadata": {},
   "outputs": [],
   "source": [
    "with open('rf_model_final.pickle','rb') as f:\n",
    "    model=pickle.load(f)"
   ]
  },
  {
   "cell_type": "markdown",
   "id": "39a5afb6",
   "metadata": {},
   "source": [
    "# Prediction"
   ]
  },
  {
   "cell_type": "code",
   "execution_count": 6,
   "id": "82034a84",
   "metadata": {},
   "outputs": [],
   "source": [
    "def get_estimated_price(location,sqft,bhk,bath):\n",
    "    try:\n",
    "        loc_index=data_columns.index(location.lower())\n",
    "    except:\n",
    "        loc_index=-1\n",
    "    x=np.zeros(len(data_columns))\n",
    "    x[0]=sqft\n",
    "    x[1]=bath\n",
    "    x[2]=bhk\n",
    "    if loc_index>=0:\n",
    "        x[loc_index]=1\n",
    "        \n",
    "    \n",
    "    return round(model.predict([x])[0],2)"
   ]
  },
  {
   "cell_type": "code",
   "execution_count": 7,
   "id": "591667e6",
   "metadata": {},
   "outputs": [
    {
     "name": "stdout",
     "output_type": "stream",
     "text": [
      "Enter Location\n",
      "Rajaji Nagar\n",
      "Enter AREA in sqft\n",
      "1000\n",
      "Enter no. of BHK\n",
      "2\n",
      "Enter no. of baths\n",
      "2\n"
     ]
    }
   ],
   "source": [
    "print('Enter Location')\n",
    "location=input()\n",
    "print('Enter AREA in sqft')\n",
    "sqft=input()\n",
    "print('Enter no. of BHK')\n",
    "bhk=input()\n",
    "print('Enter no. of baths')\n",
    "bath=input()"
   ]
  },
  {
   "cell_type": "code",
   "execution_count": 8,
   "id": "3d073ee8",
   "metadata": {},
   "outputs": [
    {
     "name": "stdout",
     "output_type": "stream",
     "text": [
      "49.21 Lakhs\n"
     ]
    },
    {
     "name": "stderr",
     "output_type": "stream",
     "text": [
      "C:\\Users\\HP\\anaconda3\\envs\\py2tf\\lib\\site-packages\\sklearn\\base.py:420: UserWarning: X does not have valid feature names, but RandomForestRegressor was fitted with feature names\n",
      "  warnings.warn(\n"
     ]
    }
   ],
   "source": [
    "print(str(get_estimated_price(location,sqft,bhk,bath))+' Lakhs')"
   ]
  },
  {
   "cell_type": "code",
   "execution_count": null,
   "id": "d249467c",
   "metadata": {},
   "outputs": [],
   "source": []
  }
 ],
 "metadata": {
  "kernelspec": {
   "display_name": "Python 3 (ipykernel)",
   "language": "python",
   "name": "python3"
  },
  "language_info": {
   "codemirror_mode": {
    "name": "ipython",
    "version": 3
   },
   "file_extension": ".py",
   "mimetype": "text/x-python",
   "name": "python",
   "nbconvert_exporter": "python",
   "pygments_lexer": "ipython3",
   "version": "3.9.13"
  }
 },
 "nbformat": 4,
 "nbformat_minor": 5
}
